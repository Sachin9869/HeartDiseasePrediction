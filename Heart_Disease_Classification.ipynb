{
 "cells": [
  {
   "cell_type": "code",
   "execution_count": 38,
   "metadata": {
    "colab": {
     "base_uri": "https://localhost:8080/",
     "height": 137
    },
    "id": "f1Hh4_WFj7aK",
    "outputId": "eb9f8685-d539-4a20-829e-5b036a030c02"
   },
   "outputs": [
    {
     "data": {
      "text/html": [
       "<div>\n",
       "<style scoped>\n",
       "    .dataframe tbody tr th:only-of-type {\n",
       "        vertical-align: middle;\n",
       "    }\n",
       "\n",
       "    .dataframe tbody tr th {\n",
       "        vertical-align: top;\n",
       "    }\n",
       "\n",
       "    .dataframe thead th {\n",
       "        text-align: right;\n",
       "    }\n",
       "</style>\n",
       "<table border=\"1\" class=\"dataframe\">\n",
       "  <thead>\n",
       "    <tr style=\"text-align: right;\">\n",
       "      <th></th>\n",
       "      <th>age</th>\n",
       "      <th>sex</th>\n",
       "      <th>cp</th>\n",
       "      <th>trestbps</th>\n",
       "      <th>chol</th>\n",
       "      <th>fbs</th>\n",
       "      <th>restecg</th>\n",
       "      <th>thalach</th>\n",
       "      <th>exang</th>\n",
       "      <th>oldpeak</th>\n",
       "      <th>slope</th>\n",
       "      <th>ca</th>\n",
       "      <th>thal</th>\n",
       "      <th>target</th>\n",
       "    </tr>\n",
       "  </thead>\n",
       "  <tbody>\n",
       "    <tr>\n",
       "      <th>0</th>\n",
       "      <td>63</td>\n",
       "      <td>1</td>\n",
       "      <td>3</td>\n",
       "      <td>145</td>\n",
       "      <td>233</td>\n",
       "      <td>1</td>\n",
       "      <td>0</td>\n",
       "      <td>150</td>\n",
       "      <td>0</td>\n",
       "      <td>2.3</td>\n",
       "      <td>0</td>\n",
       "      <td>0</td>\n",
       "      <td>1</td>\n",
       "      <td>1</td>\n",
       "    </tr>\n",
       "    <tr>\n",
       "      <th>1</th>\n",
       "      <td>37</td>\n",
       "      <td>1</td>\n",
       "      <td>2</td>\n",
       "      <td>130</td>\n",
       "      <td>250</td>\n",
       "      <td>0</td>\n",
       "      <td>1</td>\n",
       "      <td>187</td>\n",
       "      <td>0</td>\n",
       "      <td>3.5</td>\n",
       "      <td>0</td>\n",
       "      <td>0</td>\n",
       "      <td>2</td>\n",
       "      <td>1</td>\n",
       "    </tr>\n",
       "    <tr>\n",
       "      <th>2</th>\n",
       "      <td>41</td>\n",
       "      <td>0</td>\n",
       "      <td>1</td>\n",
       "      <td>130</td>\n",
       "      <td>204</td>\n",
       "      <td>0</td>\n",
       "      <td>0</td>\n",
       "      <td>172</td>\n",
       "      <td>0</td>\n",
       "      <td>1.4</td>\n",
       "      <td>2</td>\n",
       "      <td>0</td>\n",
       "      <td>2</td>\n",
       "      <td>1</td>\n",
       "    </tr>\n",
       "  </tbody>\n",
       "</table>\n",
       "</div>"
      ],
      "text/plain": [
       "   age  sex  cp  trestbps  chol  fbs  restecg  thalach  exang  oldpeak  slope  \\\n",
       "0   63    1   3       145   233    1        0      150      0      2.3      0   \n",
       "1   37    1   2       130   250    0        1      187      0      3.5      0   \n",
       "2   41    0   1       130   204    0        0      172      0      1.4      2   \n",
       "\n",
       "   ca  thal  target  \n",
       "0   0     1       1  \n",
       "1   0     2       1  \n",
       "2   0     2       1  "
      ]
     },
     "execution_count": 38,
     "metadata": {},
     "output_type": "execute_result"
    }
   ],
   "source": [
    "import os\n",
    "import pandas as pd\n",
    "import numpy as np\n",
    "import matplotlib.pyplot as plt\n",
    "import seaborn as sns\n",
    "import missingno as msno # To visualize missing value\n",
    "import plotly.graph_objects as go # To Generate Graphs\n",
    "import plotly.express as px # To Generate box plot for statistical representation\n",
    "\n",
    "from sklearn.model_selection import train_test_split\n",
    "from sklearn.preprocessing import StandardScaler\n",
    "\n",
    "\n",
    "#Importing and Knowing the data\n",
    "df=pd.read_csv(\"heart.csv\")\n",
    "\n",
    "#Picking top rows to check the datatype\n",
    "df.head(3)\n"
   ]
  },
  {
   "cell_type": "code",
   "execution_count": 39,
   "metadata": {
    "colab": {
     "base_uri": "https://localhost:8080/"
    },
    "id": "YR_RkwDKqSeE",
    "outputId": "4997a74b-2a2d-4171-aa1f-67231047deeb"
   },
   "outputs": [
    {
     "data": {
      "text/plain": [
       "(303, 14)"
      ]
     },
     "execution_count": 39,
     "metadata": {},
     "output_type": "execute_result"
    }
   ],
   "source": [
    "#shape of array\n",
    "df.shape"
   ]
  },
  {
   "cell_type": "code",
   "execution_count": 40,
   "metadata": {
    "colab": {
     "base_uri": "https://localhost:8080/"
    },
    "id": "vlSralA3qamc",
    "outputId": "d048ee7b-0c21-4d74-99c4-213d1d2e8faf"
   },
   "outputs": [
    {
     "name": "stdout",
     "output_type": "stream",
     "text": [
      "<class 'pandas.core.frame.DataFrame'>\n",
      "RangeIndex: 303 entries, 0 to 302\n",
      "Data columns (total 14 columns):\n",
      "age         303 non-null int64\n",
      "sex         303 non-null int64\n",
      "cp          303 non-null int64\n",
      "trestbps    303 non-null int64\n",
      "chol        303 non-null int64\n",
      "fbs         303 non-null int64\n",
      "restecg     303 non-null int64\n",
      "thalach     303 non-null int64\n",
      "exang       303 non-null int64\n",
      "oldpeak     303 non-null float64\n",
      "slope       303 non-null int64\n",
      "ca          303 non-null int64\n",
      "thal        303 non-null int64\n",
      "target      303 non-null int64\n",
      "dtypes: float64(1), int64(13)\n",
      "memory usage: 33.2 KB\n"
     ]
    }
   ],
   "source": [
    "df.info()\n",
    "##Data cleaning\n",
    "#type of variable\n",
    "#df.nunique()\n",
    "#df.dtypes"
   ]
  },
  {
   "cell_type": "code",
   "execution_count": 41,
   "metadata": {},
   "outputs": [
    {
     "data": {
      "text/plain": [
       "age         0\n",
       "sex         0\n",
       "cp          0\n",
       "trestbps    0\n",
       "chol        0\n",
       "fbs         0\n",
       "restecg     0\n",
       "thalach     0\n",
       "exang       0\n",
       "oldpeak     0\n",
       "slope       0\n",
       "ca          0\n",
       "thal        0\n",
       "target      0\n",
       "dtype: int64"
      ]
     },
     "execution_count": 41,
     "metadata": {},
     "output_type": "execute_result"
    }
   ],
   "source": [
    "df.isnull().sum()"
   ]
  },
  {
   "cell_type": "code",
   "execution_count": 42,
   "metadata": {},
   "outputs": [
    {
     "data": {
      "text/plain": [
       "age         0\n",
       "sex         0\n",
       "cp          0\n",
       "trestbps    0\n",
       "chol        0\n",
       "fbs         0\n",
       "restecg     0\n",
       "thalach     0\n",
       "exang       0\n",
       "oldpeak     0\n",
       "slope       0\n",
       "ca          0\n",
       "thal        0\n",
       "target      0\n",
       "dtype: int64"
      ]
     },
     "execution_count": 42,
     "metadata": {},
     "output_type": "execute_result"
    }
   ],
   "source": [
    "df.isna().sum()"
   ]
  },
  {
   "cell_type": "code",
   "execution_count": 43,
   "metadata": {
    "colab": {
     "base_uri": "https://localhost:8080/"
    },
    "id": "HIh7tnntqeBb",
    "outputId": "59cf4b3c-7b6b-459f-e367-0cec2a14ab3f"
   },
   "outputs": [
    {
     "data": {
      "text/plain": [
       "age         0\n",
       "sex         0\n",
       "cp          0\n",
       "trestbps    0\n",
       "chol        0\n",
       "fbs         0\n",
       "restecg     0\n",
       "thalach     0\n",
       "exang       0\n",
       "oldpeak     0\n",
       "slope       0\n",
       "ca          0\n",
       "thal        0\n",
       "target      0\n",
       "dtype: int64"
      ]
     },
     "execution_count": 43,
     "metadata": {},
     "output_type": "execute_result"
    }
   ],
   "source": [
    "#data characters mistakes\n",
    "df['ca'].unique()\n",
    "df.ca.value_counts()\n",
    "df[df['ca'] == 4] \n",
    "\n",
    "df.loc[df['ca'] == 4, 'ca'] = np.NaN\n",
    "df['ca'].unique()\n",
    "\n",
    "df.thal.value_counts()\n",
    "df[df['thal'] == 0] \n",
    "\n",
    "df.loc[df['thal'] == 0, 'thal'] = np.NaN\n",
    "df['thal'].unique()\n",
    "\n",
    "df = df.fillna(df.median())  # Replacing with Mean\n",
    "df.isnull().sum()            # Any missing value"
   ]
  },
  {
   "cell_type": "code",
   "execution_count": 44,
   "metadata": {
    "colab": {
     "base_uri": "https://localhost:8080/",
     "height": 505
    },
    "id": "HQHp5VOk0Lh7",
    "outputId": "ab3c0d25-069f-4fc3-8c89-33237ec35ee3"
   },
   "outputs": [
    {
     "data": {
      "text/plain": [
       "<matplotlib.axes._subplots.AxesSubplot at 0x2898a86b8d0>"
      ]
     },
     "execution_count": 44,
     "metadata": {},
     "output_type": "execute_result"
    },
    {
     "data": {
      "image/png": "[encoded data removed]",
      "text/plain": [
       "<Figure size 1800x720 with 2 Axes>"
      ]
     },
     "metadata": {},
     "output_type": "display_data"
    }
   ],
   "source": [
    "msno.matrix(df)"
   ]
  },
  {
   "cell_type": "code",
   "execution_count": 45,
   "metadata": {
    "colab": {
     "base_uri": "https://localhost:8080/",
     "height": 125
    },
    "id": "K-BCscdMfpEb",
    "outputId": "c02c9010-8d02-4dca-e5bc-b7bdfacacf4d"
   },
   "outputs": [
    {
     "name": "stdout",
     "output_type": "stream",
     "text": [
      "Duplicate rows in Dataset are 1\n"
     ]
    },
    {
     "data": {
      "text/html": [
       "<div>\n",
       "<style scoped>\n",
       "    .dataframe tbody tr th:only-of-type {\n",
       "        vertical-align: middle;\n",
       "    }\n",
       "\n",
       "    .dataframe tbody tr th {\n",
       "        vertical-align: top;\n",
       "    }\n",
       "\n",
       "    .dataframe thead th {\n",
       "        text-align: right;\n",
       "    }\n",
       "</style>\n",
       "<table border=\"1\" class=\"dataframe\">\n",
       "  <thead>\n",
       "    <tr style=\"text-align: right;\">\n",
       "      <th></th>\n",
       "      <th>age</th>\n",
       "      <th>sex</th>\n",
       "      <th>cp</th>\n",
       "      <th>trestbps</th>\n",
       "      <th>chol</th>\n",
       "      <th>fbs</th>\n",
       "      <th>restecg</th>\n",
       "      <th>thalach</th>\n",
       "      <th>exang</th>\n",
       "      <th>oldpeak</th>\n",
       "      <th>slope</th>\n",
       "      <th>ca</th>\n",
       "      <th>thal</th>\n",
       "      <th>target</th>\n",
       "    </tr>\n",
       "  </thead>\n",
       "  <tbody>\n",
       "    <tr>\n",
       "      <th>163</th>\n",
       "      <td>38</td>\n",
       "      <td>1</td>\n",
       "      <td>2</td>\n",
       "      <td>138</td>\n",
       "      <td>175</td>\n",
       "      <td>0</td>\n",
       "      <td>1</td>\n",
       "      <td>173</td>\n",
       "      <td>0</td>\n",
       "      <td>0.0</td>\n",
       "      <td>2</td>\n",
       "      <td>0.0</td>\n",
       "      <td>2.0</td>\n",
       "      <td>1</td>\n",
       "    </tr>\n",
       "    <tr>\n",
       "      <th>164</th>\n",
       "      <td>38</td>\n",
       "      <td>1</td>\n",
       "      <td>2</td>\n",
       "      <td>138</td>\n",
       "      <td>175</td>\n",
       "      <td>0</td>\n",
       "      <td>1</td>\n",
       "      <td>173</td>\n",
       "      <td>0</td>\n",
       "      <td>0.0</td>\n",
       "      <td>2</td>\n",
       "      <td>0.0</td>\n",
       "      <td>2.0</td>\n",
       "      <td>1</td>\n",
       "    </tr>\n",
       "  </tbody>\n",
       "</table>\n",
       "</div>"
      ],
      "text/plain": [
       "     age  sex  cp  trestbps  chol  fbs  restecg  thalach  exang  oldpeak  \\\n",
       "163   38    1   2       138   175    0        1      173      0      0.0   \n",
       "164   38    1   2       138   175    0        1      173      0      0.0   \n",
       "\n",
       "     slope   ca  thal  target  \n",
       "163      2  0.0   2.0       1  \n",
       "164      2  0.0   2.0       1  "
      ]
     },
     "execution_count": 45,
     "metadata": {},
     "output_type": "execute_result"
    }
   ],
   "source": [
    "#duplicate rows\n",
    "duplicated = df.duplicated().sum()\n",
    "if duplicated:\n",
    "  print(\"Duplicate rows in Dataset are {}\".format(duplicated))\n",
    "else:\n",
    "  print(\"Dataset contains no duplicate values\") \n",
    "duplicated = df[df.duplicated(keep=False)]\n",
    "duplicated.head() "
   ]
  },
  {
   "cell_type": "code",
   "execution_count": 46,
   "metadata": {
    "colab": {
     "base_uri": "https://localhost:8080/",
     "height": 307
    },
    "id": "BGgnQQMQgMNA",
    "outputId": "dab2fdb8-75bd-49f1-a903-4b84a9af7196"
   },
   "outputs": [
    {
     "data": {
      "text/html": [
       "<div>\n",
       "<style scoped>\n",
       "    .dataframe tbody tr th:only-of-type {\n",
       "        vertical-align: middle;\n",
       "    }\n",
       "\n",
       "    .dataframe tbody tr th {\n",
       "        vertical-align: top;\n",
       "    }\n",
       "\n",
       "    .dataframe thead th {\n",
       "        text-align: right;\n",
       "    }\n",
       "</style>\n",
       "<table border=\"1\" class=\"dataframe\">\n",
       "  <thead>\n",
       "    <tr style=\"text-align: right;\">\n",
       "      <th></th>\n",
       "      <th>age</th>\n",
       "      <th>sex</th>\n",
       "      <th>cp</th>\n",
       "      <th>trestbps</th>\n",
       "      <th>chol</th>\n",
       "      <th>fbs</th>\n",
       "      <th>restecg</th>\n",
       "      <th>thalach</th>\n",
       "      <th>exang</th>\n",
       "      <th>oldpeak</th>\n",
       "      <th>slope</th>\n",
       "      <th>ca</th>\n",
       "      <th>thal</th>\n",
       "      <th>target</th>\n",
       "    </tr>\n",
       "  </thead>\n",
       "  <tbody>\n",
       "    <tr>\n",
       "      <th>count</th>\n",
       "      <td>303.000000</td>\n",
       "      <td>303.000000</td>\n",
       "      <td>303.000000</td>\n",
       "      <td>303.000000</td>\n",
       "      <td>303.000000</td>\n",
       "      <td>303.000000</td>\n",
       "      <td>303.000000</td>\n",
       "      <td>303.000000</td>\n",
       "      <td>303.000000</td>\n",
       "      <td>303.000000</td>\n",
       "      <td>303.000000</td>\n",
       "      <td>303.000000</td>\n",
       "      <td>303.000000</td>\n",
       "      <td>303.000000</td>\n",
       "    </tr>\n",
       "    <tr>\n",
       "      <th>mean</th>\n",
       "      <td>54.366337</td>\n",
       "      <td>0.683168</td>\n",
       "      <td>0.966997</td>\n",
       "      <td>131.623762</td>\n",
       "      <td>246.264026</td>\n",
       "      <td>0.148515</td>\n",
       "      <td>0.528053</td>\n",
       "      <td>149.646865</td>\n",
       "      <td>0.326733</td>\n",
       "      <td>1.039604</td>\n",
       "      <td>1.399340</td>\n",
       "      <td>0.663366</td>\n",
       "      <td>2.326733</td>\n",
       "      <td>0.544554</td>\n",
       "    </tr>\n",
       "    <tr>\n",
       "      <th>std</th>\n",
       "      <td>9.082101</td>\n",
       "      <td>0.466011</td>\n",
       "      <td>1.032052</td>\n",
       "      <td>17.538143</td>\n",
       "      <td>51.830751</td>\n",
       "      <td>0.356198</td>\n",
       "      <td>0.525860</td>\n",
       "      <td>22.905161</td>\n",
       "      <td>0.469794</td>\n",
       "      <td>1.161075</td>\n",
       "      <td>0.616226</td>\n",
       "      <td>0.934375</td>\n",
       "      <td>0.583020</td>\n",
       "      <td>0.498835</td>\n",
       "    </tr>\n",
       "    <tr>\n",
       "      <th>min</th>\n",
       "      <td>29.000000</td>\n",
       "      <td>0.000000</td>\n",
       "      <td>0.000000</td>\n",
       "      <td>94.000000</td>\n",
       "      <td>126.000000</td>\n",
       "      <td>0.000000</td>\n",
       "      <td>0.000000</td>\n",
       "      <td>71.000000</td>\n",
       "      <td>0.000000</td>\n",
       "      <td>0.000000</td>\n",
       "      <td>0.000000</td>\n",
       "      <td>0.000000</td>\n",
       "      <td>1.000000</td>\n",
       "      <td>0.000000</td>\n",
       "    </tr>\n",
       "    <tr>\n",
       "      <th>25%</th>\n",
       "      <td>47.500000</td>\n",
       "      <td>0.000000</td>\n",
       "      <td>0.000000</td>\n",
       "      <td>120.000000</td>\n",
       "      <td>211.000000</td>\n",
       "      <td>0.000000</td>\n",
       "      <td>0.000000</td>\n",
       "      <td>133.500000</td>\n",
       "      <td>0.000000</td>\n",
       "      <td>0.000000</td>\n",
       "      <td>1.000000</td>\n",
       "      <td>0.000000</td>\n",
       "      <td>2.000000</td>\n",
       "      <td>0.000000</td>\n",
       "    </tr>\n",
       "    <tr>\n",
       "      <th>50%</th>\n",
       "      <td>55.000000</td>\n",
       "      <td>1.000000</td>\n",
       "      <td>1.000000</td>\n",
       "      <td>130.000000</td>\n",
       "      <td>240.000000</td>\n",
       "      <td>0.000000</td>\n",
       "      <td>1.000000</td>\n",
       "      <td>153.000000</td>\n",
       "      <td>0.000000</td>\n",
       "      <td>0.800000</td>\n",
       "      <td>1.000000</td>\n",
       "      <td>0.000000</td>\n",
       "      <td>2.000000</td>\n",
       "      <td>1.000000</td>\n",
       "    </tr>\n",
       "    <tr>\n",
       "      <th>75%</th>\n",
       "      <td>61.000000</td>\n",
       "      <td>1.000000</td>\n",
       "      <td>2.000000</td>\n",
       "      <td>140.000000</td>\n",
       "      <td>274.500000</td>\n",
       "      <td>0.000000</td>\n",
       "      <td>1.000000</td>\n",
       "      <td>166.000000</td>\n",
       "      <td>1.000000</td>\n",
       "      <td>1.600000</td>\n",
       "      <td>2.000000</td>\n",
       "      <td>1.000000</td>\n",
       "      <td>3.000000</td>\n",
       "      <td>1.000000</td>\n",
       "    </tr>\n",
       "    <tr>\n",
       "      <th>max</th>\n",
       "      <td>77.000000</td>\n",
       "      <td>1.000000</td>\n",
       "      <td>3.000000</td>\n",
       "      <td>200.000000</td>\n",
       "      <td>564.000000</td>\n",
       "      <td>1.000000</td>\n",
       "      <td>2.000000</td>\n",
       "      <td>202.000000</td>\n",
       "      <td>1.000000</td>\n",
       "      <td>6.200000</td>\n",
       "      <td>2.000000</td>\n",
       "      <td>3.000000</td>\n",
       "      <td>3.000000</td>\n",
       "      <td>1.000000</td>\n",
       "    </tr>\n",
       "  </tbody>\n",
       "</table>\n",
       "</div>"
      ],
      "text/plain": [
       "              age         sex          cp    trestbps        chol         fbs  \\\n",
       "count  303.000000  303.000000  303.000000  303.000000  303.000000  303.000000   \n",
       "mean    54.366337    0.683168    0.966997  131.623762  246.264026    0.148515   \n",
       "std      9.082101    0.466011    1.032052   17.538143   51.830751    0.356198   \n",
       "min     29.000000    0.000000    0.000000   94.000000  126.000000    0.000000   \n",
       "25%     47.500000    0.000000    0.000000  120.000000  211.000000    0.000000   \n",
       "50%     55.000000    1.000000    1.000000  130.000000  240.000000    0.000000   \n",
       "75%     61.000000    1.000000    2.000000  140.000000  274.500000    0.000000   \n",
       "max     77.000000    1.000000    3.000000  200.000000  564.000000    1.000000   \n",
       "\n",
       "          restecg     thalach       exang     oldpeak       slope          ca  \\\n",
       "count  303.000000  303.000000  303.000000  303.000000  303.000000  303.000000   \n",
       "mean     0.528053  149.646865    0.326733    1.039604    1.399340    0.663366   \n",
       "std      0.525860   22.905161    0.469794    1.161075    0.616226    0.934375   \n",
       "min      0.000000   71.000000    0.000000    0.000000    0.000000    0.000000   \n",
       "25%      0.000000  133.500000    0.000000    0.000000    1.000000    0.000000   \n",
       "50%      1.000000  153.000000    0.000000    0.800000    1.000000    0.000000   \n",
       "75%      1.000000  166.000000    1.000000    1.600000    2.000000    1.000000   \n",
       "max      2.000000  202.000000    1.000000    6.200000    2.000000    3.000000   \n",
       "\n",
       "             thal      target  \n",
       "count  303.000000  303.000000  \n",
       "mean     2.326733    0.544554  \n",
       "std      0.583020    0.498835  \n",
       "min      1.000000    0.000000  \n",
       "25%      2.000000    0.000000  \n",
       "50%      2.000000    1.000000  \n",
       "75%      3.000000    1.000000  \n",
       "max      3.000000    1.000000  "
      ]
     },
     "execution_count": 46,
     "metadata": {},
     "output_type": "execute_result"
    }
   ],
   "source": [
    "df.describe()"
   ]
  },
  {
   "cell_type": "code",
   "execution_count": 47,
   "metadata": {},
   "outputs": [
    {
     "data": {
      "text/plain": [
       "<matplotlib.axes._subplots.AxesSubplot at 0x2898a846278>"
      ]
     },
     "execution_count": 47,
     "metadata": {},
     "output_type": "execute_result"
    },
    {
     "data": {
      "image/png": "[encoded data removed]",
      "text/plain": [
       "<Figure size 1080x720 with 1 Axes>"
      ]
     },
     "metadata": {},
     "output_type": "display_data"
    }
   ],
   "source": [
    "df.boxplot()"
   ]
  },
  {
   "cell_type": "code",
   "execution_count": 49,
   "metadata": {
    "colab": {
     "base_uri": "https://localhost:8080/"
    },
    "id": "NyBB2ELWqp7j",
    "outputId": "4912ef84-4ed1-4d91-c3b2-67a87a9cc436"
   },
   "outputs": [
    {
     "name": "stdout",
     "output_type": "stream",
     "text": [
      "For the feature age, No of Outliers is 0\n",
      "For the feature trestbps, No of Outliers is 9\n",
      "For the feature chol, No of Outliers is 5\n",
      "For the feature thalach, No of Outliers is 1\n",
      "For the feature oldpeak, No of Outliers is 5\n",
      "Outliers from age feature removed\n",
      "Outliers from trestbps feature removed\n",
      "Outliers from chol feature removed\n",
      "Outliers from thalach feature removed\n",
      "Outliers from oldpeak feature removed\n",
      "1    159\n",
      "0    125\n",
      "Name: target, dtype: int64\n"
     ]
    }
   ],
   "source": [
    "continous_features = ['age','trestbps','chol','thalach','oldpeak']  \n",
    "def outliers(df_out, drop = False):\n",
    "    for each_feature in df_out.columns:\n",
    "        feature_data = df_out[each_feature]\n",
    "        Q1 = np.percentile(feature_data, 25.) # 25th percentile of the data of the given feature\n",
    "        Q3 = np.percentile(feature_data, 75.) # 75th percentile of the data of the given feature\n",
    "        IQR = Q3-Q1 #Interquartile Range\n",
    "        outlier_step = IQR * 1.5 #That's we were talking about above\n",
    "        outliers = feature_data[~((feature_data >= Q1 - outlier_step) & (feature_data <= Q3 + outlier_step))].index.tolist()  \n",
    "        if not drop:\n",
    "            print('For the feature {}, No of Outliers is {}'.format(each_feature, len(outliers)))\n",
    "        if drop:\n",
    "            df.drop(outliers, inplace = True, errors = 'ignore')\n",
    "            print('Outliers from {} feature removed'.format(each_feature))\n",
    "\n",
    "outliers(df[continous_features])\n",
    "outliers(df[continous_features], drop=True)\n",
    "\n",
    "print(df.target.value_counts())"
   ]
  },
  {
   "cell_type": "code",
   "execution_count": 50,
   "metadata": {
    "colab": {
     "base_uri": "https://localhost:8080/",
     "height": 281
    },
    "id": "bGUPa_DcqwdC",
    "outputId": "53ef8405-8661-4fed-9b9b-fc9148d6200a"
   },
   "outputs": [
    {
     "data": {
      "image/png": "[encoded data removed]",
      "text/plain": [
       "<Figure size 360x288 with 1 Axes>"
      ]
     },
     "metadata": {},
     "output_type": "display_data"
    }
   ],
   "source": [
    "fig, ax = plt.subplots(figsize=(5,4))\n",
    "name = [\"Positive\", \"Negative\"]\n",
    "ax = df.target.value_counts().plot(kind='bar')\n",
    "\n",
    "ax.set_title(\"Heart Disease Distribution\", fontsize = 13, weight = 'bold')\n",
    "ax.set_xticklabels (name, rotation = 0)\n",
    "\n",
    "# To calculate the percentage\n",
    "totals = []\n",
    "for i in ax.patches:\n",
    "    totals.append(i.get_height())\n",
    "total = sum(totals)\n",
    "for i in ax.patches:\n",
    "    ax.text(i.get_x()+.09, i.get_height()-50, \\\n",
    "            str(round((i.get_height()/total)*100, 2))+'%', fontsize=14,\n",
    "                color='white', weight = 'bold')\n",
    "    \n",
    " "
   ]
  },
  {
   "cell_type": "code",
   "execution_count": 51,
   "metadata": {
    "colab": {
     "base_uri": "https://localhost:8080/",
     "height": 905
    },
    "id": "onOQEmU6q-5H",
    "outputId": "5f94337d-1c92-4da2-c206-c1af299850cd"
   },
   "outputs": [
    {
     "name": "stderr",
     "output_type": "stream",
     "text": [
      "C:\\Users\\lenovo\\AppData\\Roaming\\Python\\Python36\\site-packages\\IPython\\core\\interactiveshell.py:2882: UserWarning:\n",
      "\n",
      "To output multiple subplots, the figure containing the passed axes is being cleared\n",
      "\n"
     ]
    },
    {
     "data": {
      "image/png": "[encoded data removed]",
      "text/plain": [
       "<Figure size 1440x1080 with 16 Axes>"
      ]
     },
     "metadata": {},
     "output_type": "display_data"
    }
   ],
   "source": [
    "#bargrapgh_eda_dist\n",
    "fig=plt.figure(figsize=(20,15))\n",
    "ax=fig.gca()\n",
    "df.hist(ax=ax)\n",
    "plt.show()"
   ]
  },
  {
   "cell_type": "code",
   "execution_count": 52,
   "metadata": {
    "colab": {
     "base_uri": "https://localhost:8080/",
     "height": 623
    },
    "id": "WuFazZU1rCGL",
    "outputId": "9bb9f944-a99d-49d9-84d1-0a687b56d918"
   },
   "outputs": [
    {
     "data": {
      "image/png": "[encoded data removed]",
      "text/plain": [
       "<Figure size 1080x720 with 2 Axes>"
      ]
     },
     "metadata": {},
     "output_type": "display_data"
    }
   ],
   "source": [
    "#corelation heat map\n",
    "#df['target'] = df.target.replace({1: \"Positive\", 0: \"Negative\"})\n",
    "sns.set(style=\"white\") \n",
    "plt.rcParams['figure.figsize'] = (15, 10) \n",
    "sns.heatmap(df.corr(), annot = True, linewidths=.5, cmap=\"Oranges\")\n",
    "plt.title('Corelation Between Variables', fontsize = 30)\n",
    "plt.show()"
   ]
  },
  {
   "cell_type": "code",
   "execution_count": 53,
   "metadata": {
    "colab": {
     "base_uri": "https://localhost:8080/"
    },
    "id": "ttKQYaHcrDLP",
    "outputId": "633cd822-35a1-4a62-8f2f-f4d95b626972"
   },
   "outputs": [
    {
     "name": "stdout",
     "output_type": "stream",
     "text": [
      "[[ 1.11256297  0.68313005 -0.93162467 ... -0.70939329  1.58553771\n",
      "  -2.19433456]\n",
      " [-0.3955175  -1.46385011  0.07088449 ...  0.94307578 -0.70596934\n",
      "  -0.51031036]\n",
      " [-2.011318    0.68313005 -0.93162467 ...  0.94307578 -0.70596934\n",
      "   1.17371384]\n",
      " ...\n",
      " [ 0.03536264 -1.46385011  1.07339364 ...  0.94307578 -0.70596934\n",
      "  -0.51031036]\n",
      " [-0.0723574  -1.46385011 -0.93162467 ...  0.94307578 -0.70596934\n",
      "  -0.51031036]\n",
      " [-1.14955773  0.68313005 -0.93162467 ... -0.70939329 -0.70596934\n",
      "   1.17371384]]\n",
      "242    0\n",
      "108    1\n",
      "239    0\n",
      "73     1\n",
      "255    0\n",
      "236    0\n",
      "194    0\n",
      "292    0\n",
      "196    0\n",
      "35     1\n",
      "86     1\n",
      "142    1\n",
      "62     1\n",
      "295    0\n",
      "283    0\n",
      "22     1\n",
      "31     1\n",
      "245    0\n",
      "17     1\n",
      "58     1\n",
      "77     1\n",
      "141    1\n",
      "161    1\n",
      "151    1\n",
      "115    1\n",
      "195    0\n",
      "4      1\n",
      "100    1\n",
      "159    1\n",
      "63     1\n",
      "      ..\n",
      "173    0\n",
      "148    1\n",
      "275    0\n",
      "153    1\n",
      "280    0\n",
      "183    0\n",
      "104    1\n",
      "205    0\n",
      "258    0\n",
      "121    1\n",
      "74     1\n",
      "26     1\n",
      "171    0\n",
      "290    0\n",
      "180    0\n",
      "293    0\n",
      "41     1\n",
      "199    0\n",
      "91     1\n",
      "72     1\n",
      "90     1\n",
      "257    0\n",
      "219    0\n",
      "10     1\n",
      "201    0\n",
      "268    0\n",
      "198    0\n",
      "123    1\n",
      "49     1\n",
      "178    0\n",
      "Name: target, Length: 198, dtype: int64\n"
     ]
    }
   ],
   "source": [
    "y = df['target']\n",
    "X = df.drop(['target'], axis = 1)\n",
    "X_train, X_test, y_train, y_test = train_test_split(X, y, test_size = 0.30, random_state = 0)\n",
    "\n",
    "from sklearn.preprocessing import StandardScaler\n",
    "\n",
    "# Create an instance of the scaler and apply it to the data\n",
    "sc = StandardScaler()\n",
    "X_train = sc.fit_transform(X_train)\n",
    "X_test = sc.transform(X_test)\n",
    "print(X_train)\n",
    "print(y_train)"
   ]
  },
  {
   "cell_type": "code",
   "execution_count": 68,
   "metadata": {
    "colab": {
     "base_uri": "https://localhost:8080/"
    },
    "id": "SeY16E9Bwt7P",
    "outputId": "9c6f4804-b868-428b-eb46-2fdeb3925767"
   },
   "outputs": [
    {
     "name": "stdout",
     "output_type": "stream",
     "text": [
      "\n",
      "Accuracy for training set for Logistic Regression = 0.8636363636363636\n",
      "Accuracy for test set for Logistic Regression = 0.8604651162790697\n"
     ]
    }
   ],
   "source": [
    "from sklearn.linear_model import LogisticRegression\n",
    "classifier = LogisticRegression(max_iter=100)\n",
    "\n",
    "classifier.fit(X_train, y_train)\n",
    "\n",
    "# Predicting the Test set results\n",
    "y_pred = classifier.predict(X_test)\n",
    "\n",
    "from sklearn.metrics import confusion_matrix\n",
    "cm_test = confusion_matrix(y_pred, y_test)\n",
    "\n",
    "y_pred_train = classifier.predict(X_train)\n",
    "cm_train = confusion_matrix(y_pred_train, y_train)\n",
    "\n",
    "print()\n",
    "print('Accuracy for training set for Logistic Regression = {}'.format((cm_train[0][0] + cm_train[1][1])/len(y_train)))\n",
    "print('Accuracy for test set for Logistic Regression = {}'.format((cm_test[0][0] + cm_test[1][1])/len(y_test)))"
   ]
  },
  {
   "cell_type": "code",
   "execution_count": 69,
   "metadata": {},
   "outputs": [
    {
     "data": {
      "text/plain": [
       "array([[31,  2],\n",
       "       [10, 43]], dtype=int64)"
      ]
     },
     "execution_count": 69,
     "metadata": {},
     "output_type": "execute_result"
    }
   ],
   "source": [
    "cm_test"
   ]
  },
  {
   "cell_type": "code",
   "execution_count": 70,
   "metadata": {
    "colab": {
     "base_uri": "https://localhost:8080/"
    },
    "id": "1eGZiul7i84j",
    "outputId": "02ab6fc2-8a9b-4463-e144-4722161a2144"
   },
   "outputs": [
    {
     "name": "stdout",
     "output_type": "stream",
     "text": [
      "Scores: [0.75       0.75       0.7        0.9        0.85       0.8\n",
      " 0.8        0.7        0.78947368 0.89473684]\n",
      "Mean: 0.7934210526315789\n",
      "Standard Deviation: 0.06793603395210289\n"
     ]
    }
   ],
   "source": [
    "import sklearn\n",
    "# K-folds Cross Validation, using K=10, Random Forest Classifier\n",
    "from sklearn.metrics import roc_curve\n",
    "from sklearn.ensemble import RandomForestClassifier\n",
    "from sklearn.model_selection import KFold, cross_val_score\n",
    "from sklearn.model_selection import cross_val_score\n",
    "\n",
    "rf = RandomForestClassifier(n_estimators=100)\n",
    "\n",
    "scores = cross_val_score(rf, X_train, y_train, cv=10, scoring = \"accuracy\")\n",
    "print(\"Scores:\", scores)\n",
    "print(\"Mean:\", scores.mean())\n",
    "print(\"Standard Deviation:\", scores.std())"
   ]
  },
  {
   "cell_type": "code",
   "execution_count": 71,
   "metadata": {
    "colab": {
     "base_uri": "https://localhost:8080/"
    },
    "id": "wTWtO56isNk2",
    "outputId": "457a2b12-ea96-42ff-a839-d9bfb5eabd2f"
   },
   "outputs": [
    {
     "name": "stdout",
     "output_type": "stream",
     "text": [
      "Scores: [0.85       0.8        0.75       0.9        0.85       0.85\n",
      " 0.85       0.9        0.78947368 0.89473684]\n",
      "Mean: 0.843421052631579\n",
      "Standard Deviation: 0.04767808139998273\n"
     ]
    }
   ],
   "source": [
    "import sklearn\n",
    "# K-folds Cross Validation, using K=10, Logistic Regression Classifier\n",
    "from sklearn.metrics import roc_curve\n",
    "from sklearn.linear_model import LogisticRegression\n",
    "from sklearn.model_selection import KFold, cross_val_score\n",
    "LogReg_clf = LogisticRegression(random_state = 0)\n",
    "\n",
    "classifier.fit(X_train, y_train)\n",
    "y_pred = classifier.predict(X_test)\n",
    "from sklearn.metrics import confusion_matrix, accuracy_score\n",
    "\n",
    "scores_log = cross_val_score(LogReg_clf, X_train, y_train, cv=10, scoring = \"accuracy\")\n",
    "print(\"Scores:\", scores_log)\n",
    "print(\"Mean:\", scores_log.mean())\n",
    "print(\"Standard Deviation:\", scores_log.std())"
   ]
  },
  {
   "cell_type": "code",
   "execution_count": 72,
   "metadata": {
    "colab": {
     "base_uri": "https://localhost:8080/"
    },
    "id": "MR5CLZJ4wQe0",
    "outputId": "a4e048c8-5f6b-4a54-c48b-9211d7b6fddb"
   },
   "outputs": [
    {
     "name": "stdout",
     "output_type": "stream",
     "text": [
      "Scores: [0.8        0.7        0.75       0.9        0.85       0.75\n",
      " 0.8        0.75       0.73684211 0.89473684]\n",
      "Mean: 0.7931578947368421\n",
      "Standard Deviation: 0.06518883713899665\n"
     ]
    }
   ],
   "source": [
    "import sklearn\n",
    "# K-folds Cross Validation, using K=10, KNearest Neighbour Classifier\n",
    "from sklearn.metrics import roc_curve\n",
    "from sklearn.neighbors import KNeighborsClassifier\n",
    "from sklearn.model_selection import KFold, cross_val_score\n",
    "kNearest_clf = KNeighborsClassifier(n_neighbors = 3)\n",
    "\n",
    "classifier.fit(X_train, y_train)\n",
    "y_pred = classifier.predict(X_test)\n",
    "from sklearn.metrics import confusion_matrix, accuracy_score\n",
    "\n",
    "scores_log = cross_val_score(kNearest_clf, X_train, y_train, cv=10, scoring = \"accuracy\")\n",
    "print(\"Scores:\", scores_log)\n",
    "print(\"Mean:\", scores_log.mean())\n",
    "print(\"Standard Deviation:\", scores_log.std())"
   ]
  },
  {
   "cell_type": "code",
   "execution_count": 73,
   "metadata": {
    "colab": {
     "base_uri": "https://localhost:8080/"
    },
    "id": "yEa5oJwCwt72",
    "outputId": "ff806e2a-7ead-433b-a4bf-1d2f4e89183a"
   },
   "outputs": [
    {
     "name": "stdout",
     "output_type": "stream",
     "text": [
      "Scores: [0.95       0.85       0.75       0.9        0.9        0.75\n",
      " 0.9        0.7        0.73684211 0.89473684]\n",
      "Mean: 0.8331578947368421\n",
      "Standard Deviation: 0.08483485668395543\n"
     ]
    }
   ],
   "source": [
    "import sklearn\n",
    "# K-folds Cross Validation, using K=10, Gaussian Naive Bayes\n",
    "from sklearn.metrics import roc_curve\n",
    "from sklearn.naive_bayes import GaussianNB\n",
    "from sklearn.model_selection import KFold, cross_val_score\n",
    "gaussianNaive_clf = GaussianNB()\n",
    "\n",
    "classifier.fit(X_train, y_train)\n",
    "y_pred = classifier.predict(X_test)\n",
    "from sklearn.metrics import confusion_matrix, accuracy_score\n",
    "\n",
    "scores_log = cross_val_score(gaussianNaive_clf, X_train, y_train, cv=10, scoring = \"accuracy\")\n",
    "print(\"Scores:\", scores_log)\n",
    "print(\"Mean:\", scores_log.mean())\n",
    "print(\"Standard Deviation:\", scores_log.std())"
   ]
  },
  {
   "cell_type": "code",
   "execution_count": 74,
   "metadata": {
    "colab": {
     "base_uri": "https://localhost:8080/"
    },
    "id": "34XQ1zcFygY7",
    "outputId": "7ebbce0c-d9c8-4b19-dc04-1088ae7261c3"
   },
   "outputs": [
    {
     "name": "stdout",
     "output_type": "stream",
     "text": [
      "Scores: [0.85       0.8        0.75       0.9        0.85       0.85\n",
      " 0.85       0.9        0.78947368 0.89473684]\n",
      "Mean: 0.843421052631579\n",
      "Standard Deviation: 0.04767808139998273\n"
     ]
    }
   ],
   "source": [
    "import sklearn\n",
    "# K-folds Cross Validation, using K=10, Linear Support Vector Machine\n",
    "from sklearn.svm import LinearSVC\n",
    "linearSupportVM_clf = LinearSVC()\n",
    "\n",
    "classifier.fit(X_train, y_train)\n",
    "y_pred = classifier.predict(X_test)\n",
    "\n",
    "scores_log = cross_val_score(linearSupportVM_clf, X_train, y_train, cv=10, scoring = \"accuracy\")\n",
    "print(\"Scores:\", scores_log)\n",
    "print(\"Mean:\", scores_log.mean())\n",
    "print(\"Standard Deviation:\", scores_log.std())"
   ]
  },
  {
   "cell_type": "code",
   "execution_count": 75,
   "metadata": {
    "colab": {
     "base_uri": "https://localhost:8080/"
    },
    "id": "CGVaNA93zAlo",
    "outputId": "2bccce22-0869-4d91-f81f-a41730ea83b2"
   },
   "outputs": [
    {
     "name": "stdout",
     "output_type": "stream",
     "text": [
      "Scores: [0.75       0.7        0.65       0.85       0.8        0.65\n",
      " 0.8        0.75       0.68421053 0.94736842]\n",
      "Mean: 0.7581578947368421\n",
      "Standard Deviation: 0.08950812030820461\n"
     ]
    }
   ],
   "source": [
    "import sklearn\n",
    "# K-folds Cross Validation, using K=10, Decision Tree\n",
    "from sklearn.tree import DecisionTreeClassifier\n",
    "decisionTree_clf = DecisionTreeClassifier()\n",
    "\n",
    "classifier.fit(X_train, y_train)\n",
    "y_pred = classifier.predict(X_test)\n",
    "\n",
    "scores_log = cross_val_score(decisionTree_clf, X_train, y_train, cv=10, scoring = \"accuracy\")\n",
    "print(\"Scores:\", scores_log)\n",
    "print(\"Mean:\", scores_log.mean())\n",
    "print(\"Standard Deviation:\", scores_log.std())"
   ]
  },
  {
   "cell_type": "code",
   "execution_count": 76,
   "metadata": {
    "id": "bdkxfUlcwFh_"
   },
   "outputs": [],
   "source": [
    "#Model #1: Random Forest:\n",
    "\n",
    "random_forest = RandomForestClassifier(n_estimators=100)\n",
    "random_forest.fit(X_train, y_train)\n",
    "\n",
    "Y_prediction = random_forest.predict(X_test)\n",
    "\n",
    "random_forest.score(X_train, y_train)\n",
    "\n",
    "acc_random_forest = round(random_forest.score(X_train, y_train) * 100, 2)\n",
    "acc_random_forest_test = round(random_forest.score(X_test, y_test) * 100, 2)"
   ]
  },
  {
   "cell_type": "code",
   "execution_count": 77,
   "metadata": {
    "id": "j-_kOr2zjTxR"
   },
   "outputs": [],
   "source": [
    "#Model #2: Logistic Regression \n",
    "\n",
    "logreg = LogisticRegression()\n",
    "logreg.fit(X_train, y_train)\n",
    "\n",
    "Y_pred = logreg.predict(X_test)\n",
    "\n",
    "acc_log = round(logreg.score(X_train, y_train) * 100, 2)\n",
    "acc_log_test = round(logreg.score(X_test, y_test) * 100, 2)"
   ]
  },
  {
   "cell_type": "code",
   "execution_count": 78,
   "metadata": {
    "id": "VwxOCDnUumwP"
   },
   "outputs": [],
   "source": [
    "#Model #3: K Nearest Neighbor:\n",
    "from sklearn.neighbors import KNeighborsClassifier\n",
    "\n",
    "knn = KNeighborsClassifier(n_neighbors = 3) \n",
    "knn.fit(X_train, y_train)  \n",
    "Y_pred = knn.predict(X_test)  \n",
    "acc_knn = round(knn.score(X_train, y_train) * 100, 2)\n",
    "acc_knn_test = round(knn.score(X_test, y_test) * 100, 2)"
   ]
  },
  {
   "cell_type": "code",
   "execution_count": 79,
   "metadata": {
    "id": "GqzubFa-xYX_"
   },
   "outputs": [],
   "source": [
    "#Model #4: Gaussian Naive Bayes:\n",
    "gaussian = GaussianNB() \n",
    "gaussian.fit(X_train, y_train)  \n",
    "Y_pred = gaussian.predict(X_test)  \n",
    "acc_gaussian = round(gaussian.score(X_train, y_train) * 100, 2)\n",
    "acc_gaussian_test = round(gaussian.score(X_test, y_test) * 100, 2)"
   ]
  },
  {
   "cell_type": "code",
   "execution_count": 80,
   "metadata": {
    "id": "Hb06K64Xx25_"
   },
   "outputs": [],
   "source": [
    "#Model #5: Linear Support Vector Machine:\n",
    "\n",
    "linear_svc = LinearSVC()\n",
    "linear_svc.fit(X_train, y_train)\n",
    "\n",
    "Y_pred = linear_svc.predict(X_test)\n",
    "\n",
    "acc_linear_svc = round(linear_svc.score(X_train, y_train) * 100, 2)\n",
    "acc_linear_svc_test = round(linear_svc.score(X_test, y_test) * 100, 2)"
   ]
  },
  {
   "cell_type": "code",
   "execution_count": 81,
   "metadata": {
    "id": "WMdxZ-7ByH5U"
   },
   "outputs": [],
   "source": [
    "#Model #6: Decision Tree:\n",
    "\n",
    "decision_tree = DecisionTreeClassifier() \n",
    "decision_tree.fit(X_train, y_train)  \n",
    "Y_pred = decision_tree.predict(X_test)  \n",
    "acc_decision_tree = round(decision_tree.score(X_train, y_train) * 100, 2)\n",
    "acc_decision_tree_test = round(decision_tree.score(X_test, y_test) * 100, 2)"
   ]
  },
  {
   "cell_type": "code",
   "execution_count": 82,
   "metadata": {
    "colab": {
     "base_uri": "https://localhost:8080/",
     "height": 257
    },
    "id": "mTNBahIApz3n",
    "outputId": "7ee9fe03-79ab-4d3e-d63c-9a3ec140039b"
   },
   "outputs": [
    {
     "data": {
      "text/html": [
       "<div>\n",
       "<style scoped>\n",
       "    .dataframe tbody tr th:only-of-type {\n",
       "        vertical-align: middle;\n",
       "    }\n",
       "\n",
       "    .dataframe tbody tr th {\n",
       "        vertical-align: top;\n",
       "    }\n",
       "\n",
       "    .dataframe thead th {\n",
       "        text-align: right;\n",
       "    }\n",
       "</style>\n",
       "<table border=\"1\" class=\"dataframe\">\n",
       "  <thead>\n",
       "    <tr style=\"text-align: right;\">\n",
       "      <th></th>\n",
       "      <th>Model</th>\n",
       "    </tr>\n",
       "    <tr>\n",
       "      <th>Score</th>\n",
       "      <th></th>\n",
       "    </tr>\n",
       "  </thead>\n",
       "  <tbody>\n",
       "    <tr>\n",
       "      <th>100.00</th>\n",
       "      <td>Random Forest</td>\n",
       "    </tr>\n",
       "    <tr>\n",
       "      <th>100.00</th>\n",
       "      <td>Decision Tree</td>\n",
       "    </tr>\n",
       "    <tr>\n",
       "      <th>86.87</th>\n",
       "      <td>Linear Support Vector Machine</td>\n",
       "    </tr>\n",
       "    <tr>\n",
       "      <th>86.36</th>\n",
       "      <td>Logistic Regression</td>\n",
       "    </tr>\n",
       "    <tr>\n",
       "      <th>85.35</th>\n",
       "      <td>KNeighborsClassifier</td>\n",
       "    </tr>\n",
       "    <tr>\n",
       "      <th>84.34</th>\n",
       "      <td>Gaussian Naive Bayes</td>\n",
       "    </tr>\n",
       "  </tbody>\n",
       "</table>\n",
       "</div>"
      ],
      "text/plain": [
       "                                Model\n",
       "Score                                \n",
       "100.00                  Random Forest\n",
       "100.00                  Decision Tree\n",
       "86.87   Linear Support Vector Machine\n",
       "86.36             Logistic Regression\n",
       "85.35            KNeighborsClassifier\n",
       "84.34            Gaussian Naive Bayes"
      ]
     },
     "execution_count": 82,
     "metadata": {},
     "output_type": "execute_result"
    }
   ],
   "source": [
    "results = pd.DataFrame({\n",
    "    'Model': ['Logistic Regression', \n",
    "              'Random Forest', \n",
    "              'KNeighborsClassifier',\n",
    "              'Gaussian Naive Bayes',\n",
    "              'Linear Support Vector Machine',\n",
    "              'Decision Tree'],\n",
    "    'Score': [acc_log, \n",
    "              acc_random_forest,\n",
    "              acc_knn,\n",
    "              acc_gaussian,\n",
    "              acc_linear_svc,\n",
    "              acc_decision_tree]})\n",
    "\n",
    "result_df = results.sort_values(by='Score', ascending=False)\n",
    "result_df = result_df.set_index('Score')\n",
    "result_df.head(6)"
   ]
  },
  {
   "cell_type": "code",
   "execution_count": 83,
   "metadata": {},
   "outputs": [
    {
     "data": {
      "text/html": [
       "<div>\n",
       "<style scoped>\n",
       "    .dataframe tbody tr th:only-of-type {\n",
       "        vertical-align: middle;\n",
       "    }\n",
       "\n",
       "    .dataframe tbody tr th {\n",
       "        vertical-align: top;\n",
       "    }\n",
       "\n",
       "    .dataframe thead th {\n",
       "        text-align: right;\n",
       "    }\n",
       "</style>\n",
       "<table border=\"1\" class=\"dataframe\">\n",
       "  <thead>\n",
       "    <tr style=\"text-align: right;\">\n",
       "      <th></th>\n",
       "      <th>Train Score</th>\n",
       "      <th>Test Score</th>\n",
       "    </tr>\n",
       "    <tr>\n",
       "      <th>Model</th>\n",
       "      <th></th>\n",
       "      <th></th>\n",
       "    </tr>\n",
       "  </thead>\n",
       "  <tbody>\n",
       "    <tr>\n",
       "      <th>Logistic Regression</th>\n",
       "      <td>86.36</td>\n",
       "      <td>86.05</td>\n",
       "    </tr>\n",
       "    <tr>\n",
       "      <th>Linear Support Vector Machine</th>\n",
       "      <td>86.87</td>\n",
       "      <td>86.05</td>\n",
       "    </tr>\n",
       "    <tr>\n",
       "      <th>Gaussian Naive Bayes</th>\n",
       "      <td>84.34</td>\n",
       "      <td>82.56</td>\n",
       "    </tr>\n",
       "    <tr>\n",
       "      <th>Random Forest</th>\n",
       "      <td>100.00</td>\n",
       "      <td>81.40</td>\n",
       "    </tr>\n",
       "    <tr>\n",
       "      <th>KNeighborsClassifier</th>\n",
       "      <td>85.35</td>\n",
       "      <td>79.07</td>\n",
       "    </tr>\n",
       "    <tr>\n",
       "      <th>Decision Tree</th>\n",
       "      <td>100.00</td>\n",
       "      <td>73.26</td>\n",
       "    </tr>\n",
       "  </tbody>\n",
       "</table>\n",
       "</div>"
      ],
      "text/plain": [
       "                               Train Score  Test Score\n",
       "Model                                                 \n",
       "Logistic Regression                  86.36       86.05\n",
       "Linear Support Vector Machine        86.87       86.05\n",
       "Gaussian Naive Bayes                 84.34       82.56\n",
       "Random Forest                       100.00       81.40\n",
       "KNeighborsClassifier                 85.35       79.07\n",
       "Decision Tree                       100.00       73.26"
      ]
     },
     "execution_count": 83,
     "metadata": {},
     "output_type": "execute_result"
    }
   ],
   "source": [
    "results1 = pd.DataFrame({\n",
    "    'Model': ['Logistic Regression', \n",
    "              'Random Forest', \n",
    "              'KNeighborsClassifier',\n",
    "              'Gaussian Naive Bayes',\n",
    "              'Linear Support Vector Machine',\n",
    "              'Decision Tree'],\n",
    "    'Train Score': [acc_log, \n",
    "              acc_random_forest,\n",
    "              acc_knn,\n",
    "              acc_gaussian,\n",
    "              acc_linear_svc,\n",
    "              acc_decision_tree],\n",
    "    'Test Score': [acc_log_test, \n",
    "              acc_random_forest_test,\n",
    "              acc_knn_test,\n",
    "              acc_gaussian_test,\n",
    "              acc_linear_svc_test,\n",
    "              acc_decision_tree_test]})\n",
    "\n",
    "result_df1 = results1.sort_values(by='Test Score', ascending=False)\n",
    "result_df1 = result_df1.set_index('Model')\n",
    "result_df1.head(6)"
   ]
  },
  {
   "cell_type": "code",
   "execution_count": 85,
   "metadata": {},
   "outputs": [],
   "source": [
    "from sklearn.metrics import f1_score,precision_score,recall_score"
   ]
  },
  {
   "cell_type": "code",
   "execution_count": 86,
   "metadata": {},
   "outputs": [],
   "source": [
    "from sklearn.metrics import confusion_matrix"
   ]
  },
  {
   "cell_type": "code",
   "execution_count": 96,
   "metadata": {},
   "outputs": [],
   "source": [
    "#Logistic Regression"
   ]
  },
  {
   "cell_type": "code",
   "execution_count": 138,
   "metadata": {},
   "outputs": [
    {
     "name": "stdout",
     "output_type": "stream",
     "text": [
      "[[31 10]\n",
      " [ 2 43]]\n",
      "Precision is  0.8113207547169812\n",
      "Recall is  0.9555555555555556\n",
      "F1 score is  0.8775510204081634\n"
     ]
    }
   ],
   "source": [
    "tn, fp, fn, tp=confusion_matrix(logreg.predict(X_test),y_test).ravel()\n",
    "print(confusion_matrix(y_test,logreg.predict(X_test)))\n",
    "recall_scr_log=tp/(tp+fp)\n",
    "precision_scr_log=tp/(tp+fn)\n",
    "F1_score_log=(2*precision_scr_log*recall_scr_log)/(precision_scr_log+recall_scr_log)\n",
    "print(\"Precision is \",precision_scr_log)\n",
    "print(\"Recall is \",recall_scr_log)\n",
    "print(\"F1 score is \",F1_score_log)"
   ]
  },
  {
   "cell_type": "code",
   "execution_count": 139,
   "metadata": {},
   "outputs": [],
   "source": [
    "#precision and recall both should be high\n",
    "#higher the f1 score better is the model"
   ]
  },
  {
   "cell_type": "code",
   "execution_count": 140,
   "metadata": {},
   "outputs": [],
   "source": [
    "#Linear SVM"
   ]
  },
  {
   "cell_type": "code",
   "execution_count": 141,
   "metadata": {},
   "outputs": [
    {
     "name": "stdout",
     "output_type": "stream",
     "text": [
      "[[31 10]\n",
      " [ 2 43]]\n",
      "Precision is  0.8113207547169812\n",
      "Recall is  0.9555555555555556\n",
      "F1 score is  0.8775510204081634\n"
     ]
    }
   ],
   "source": [
    "tn, fp, fn, tp=confusion_matrix(linear_svc.predict(X_test),y_test).ravel()\n",
    "print(confusion_matrix(y_test,linear_svc.predict(X_test)))\n",
    "recall_scr_svm=tp/(tp+fp)\n",
    "precision_svm=tp/(tp+fn)\n",
    "F1_score_svm=(2*precision_svm*recall_scr_svm)/(precision_svm+recall_scr_svm)\n",
    "print(\"Precision is \",precision_svm)\n",
    "print(\"Recall is \",recall_scr_svm)\n",
    "print(\"F1 score is \",F1_score_svm)"
   ]
  },
  {
   "cell_type": "code",
   "execution_count": 142,
   "metadata": {},
   "outputs": [],
   "source": [
    "#Gaussian"
   ]
  },
  {
   "cell_type": "code",
   "execution_count": 143,
   "metadata": {},
   "outputs": [
    {
     "name": "stdout",
     "output_type": "stream",
     "text": [
      "[[30 11]\n",
      " [ 4 41]]\n",
      "Precision is  0.7884615384615384\n",
      "Recall is  0.9111111111111111\n",
      "F1 score is  0.834141637330537\n"
     ]
    }
   ],
   "source": [
    "tn, fp, fn, tp=confusion_matrix(gaussian.predict(X_test),y_test).ravel()\n",
    "print(confusion_matrix(y_test,gaussian.predict(X_test)))\n",
    "recall_scr_gaus=tp/(tp+fp)\n",
    "precision_scr_gaus=tp/(tp+fn)\n",
    "F1_score_gaus=(2*precision_scr_gaus*recall_scr_gaus)/(precision_scr+recall_scr_gaus)\n",
    "print(\"Precision is \",precision_scr_gaus)\n",
    "print(\"Recall is \",recall_scr_gaus)\n",
    "print(\"F1 score is \",F1_score_gaus)"
   ]
  },
  {
   "cell_type": "code",
   "execution_count": 144,
   "metadata": {},
   "outputs": [
    {
     "data": {
      "text/html": [
       "<div>\n",
       "<style scoped>\n",
       "    .dataframe tbody tr th:only-of-type {\n",
       "        vertical-align: middle;\n",
       "    }\n",
       "\n",
       "    .dataframe tbody tr th {\n",
       "        vertical-align: top;\n",
       "    }\n",
       "\n",
       "    .dataframe thead th {\n",
       "        text-align: right;\n",
       "    }\n",
       "</style>\n",
       "<table border=\"1\" class=\"dataframe\">\n",
       "  <thead>\n",
       "    <tr style=\"text-align: right;\">\n",
       "      <th></th>\n",
       "      <th>Recall Score</th>\n",
       "      <th>Precision Score</th>\n",
       "      <th>F1 Score</th>\n",
       "    </tr>\n",
       "    <tr>\n",
       "      <th>Model</th>\n",
       "      <th></th>\n",
       "      <th></th>\n",
       "      <th></th>\n",
       "    </tr>\n",
       "  </thead>\n",
       "  <tbody>\n",
       "    <tr>\n",
       "      <th>Logistic Regression</th>\n",
       "      <td>0.955556</td>\n",
       "      <td>0.811321</td>\n",
       "      <td>0.877551</td>\n",
       "    </tr>\n",
       "    <tr>\n",
       "      <th>Linear Support Vector Machine</th>\n",
       "      <td>0.955556</td>\n",
       "      <td>0.811321</td>\n",
       "      <td>0.877551</td>\n",
       "    </tr>\n",
       "    <tr>\n",
       "      <th>Gaussian Naive Bayes</th>\n",
       "      <td>0.911111</td>\n",
       "      <td>0.788462</td>\n",
       "      <td>0.834142</td>\n",
       "    </tr>\n",
       "  </tbody>\n",
       "</table>\n",
       "</div>"
      ],
      "text/plain": [
       "                               Recall Score  Precision Score  F1 Score\n",
       "Model                                                                 \n",
       "Logistic Regression                0.955556         0.811321  0.877551\n",
       "Linear Support Vector Machine      0.955556         0.811321  0.877551\n",
       "Gaussian Naive Bayes               0.911111         0.788462  0.834142"
      ]
     },
     "execution_count": 144,
     "metadata": {},
     "output_type": "execute_result"
    }
   ],
   "source": [
    "results_final = pd.DataFrame({\n",
    "    'Model': ['Logistic Regression', \n",
    "              'Gaussian Naive Bayes',\n",
    "              'Linear Support Vector Machine',\n",
    "             ],\n",
    "    'Recall Score': [recall_scr_log, \n",
    "              recall_scr_gaus,\n",
    "              recall_scr_svm],\n",
    "    'Precision Score': [precision_scr_log, \n",
    "              precision_scr_gaus,\n",
    "              precision_svm],\n",
    "    'F1 Score': [F1_score_log, \n",
    "              F1_score_gaus,\n",
    "              F1_score_svm],})\n",
    "\n",
    "result_final = results_final.sort_values(by='F1 Score', ascending=False)\n",
    "result_final = result_final.set_index('Model')\n",
    "result_final.head(3)"
   ]
  },
  {
   "cell_type": "code",
   "execution_count": 145,
   "metadata": {},
   "outputs": [
    {
     "data": {
      "text/html": [
       "<div>\n",
       "<style scoped>\n",
       "    .dataframe tbody tr th:only-of-type {\n",
       "        vertical-align: middle;\n",
       "    }\n",
       "\n",
       "    .dataframe tbody tr th {\n",
       "        vertical-align: top;\n",
       "    }\n",
       "\n",
       "    .dataframe thead th {\n",
       "        text-align: right;\n",
       "    }\n",
       "</style>\n",
       "<table border=\"1\" class=\"dataframe\">\n",
       "  <thead>\n",
       "    <tr style=\"text-align: right;\">\n",
       "      <th></th>\n",
       "      <th>Model</th>\n",
       "      <th>Train Score</th>\n",
       "      <th>Test Score</th>\n",
       "    </tr>\n",
       "  </thead>\n",
       "  <tbody>\n",
       "    <tr>\n",
       "      <th>0</th>\n",
       "      <td>Logistic Regression</td>\n",
       "      <td>86.36</td>\n",
       "      <td>86.05</td>\n",
       "    </tr>\n",
       "    <tr>\n",
       "      <th>1</th>\n",
       "      <td>Random Forest</td>\n",
       "      <td>100.00</td>\n",
       "      <td>81.40</td>\n",
       "    </tr>\n",
       "    <tr>\n",
       "      <th>2</th>\n",
       "      <td>KNeighborsClassifier</td>\n",
       "      <td>85.35</td>\n",
       "      <td>79.07</td>\n",
       "    </tr>\n",
       "    <tr>\n",
       "      <th>3</th>\n",
       "      <td>Gaussian Naive Bayes</td>\n",
       "      <td>84.34</td>\n",
       "      <td>82.56</td>\n",
       "    </tr>\n",
       "    <tr>\n",
       "      <th>4</th>\n",
       "      <td>Linear Support Vector Machine</td>\n",
       "      <td>86.87</td>\n",
       "      <td>86.05</td>\n",
       "    </tr>\n",
       "    <tr>\n",
       "      <th>5</th>\n",
       "      <td>Decision Tree</td>\n",
       "      <td>100.00</td>\n",
       "      <td>73.26</td>\n",
       "    </tr>\n",
       "  </tbody>\n",
       "</table>\n",
       "</div>"
      ],
      "text/plain": [
       "                           Model  Train Score  Test Score\n",
       "0            Logistic Regression        86.36       86.05\n",
       "1                  Random Forest       100.00       81.40\n",
       "2           KNeighborsClassifier        85.35       79.07\n",
       "3           Gaussian Naive Bayes        84.34       82.56\n",
       "4  Linear Support Vector Machine        86.87       86.05\n",
       "5                  Decision Tree       100.00       73.26"
      ]
     },
     "execution_count": 145,
     "metadata": {},
     "output_type": "execute_result"
    }
   ],
   "source": [
    "results1.head(6)"
   ]
  },
  {
   "cell_type": "code",
   "execution_count": 135,
   "metadata": {
    "id": "-_KH3CQyxFQ8"
   },
   "outputs": [],
   "source": [
    "# Save the model as serialized object pickle\n",
    "import pickle\n",
    "\n",
    "with open('logreg_model.pkl', 'wb') as file:\n",
    "    pickle.dump(logreg, file)"
   ]
  },
  {
   "cell_type": "code",
   "execution_count": null,
   "metadata": {},
   "outputs": [],
   "source": []
  }
 ],
 "metadata": {
  "colab": {
   "collapsed_sections": [],
   "name": "Heart_Disease_Classification.ipynb",
   "provenance": []
  },
  "kernelspec": {
   "display_name": "Python 3",
   "language": "python",
   "name": "python3"
  },
  "language_info": {
   "codemirror_mode": {
    "name": "ipython",
    "version": 3
   },
   "file_extension": ".py",
   "mimetype": "text/x-python",
   "name": "python",
   "nbconvert_exporter": "python",
   "pygments_lexer": "ipython3",
   "version": "3.6.5"
  }
 },
 "nbformat": 4,
 "nbformat_minor": 1
}
